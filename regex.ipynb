{
 "cells": [
  {
   "cell_type": "code",
   "execution_count": 1,
   "metadata": {},
   "outputs": [],
   "source": [
    "import re"
   ]
  },
  {
   "cell_type": "code",
   "execution_count": 177,
   "metadata": {},
   "outputs": [],
   "source": [
    "string = '''Good Afternoon ,\n",
    "Please find 10 new submission attached. The insured is a Crytpocoin  “minor’, from a risk point of view we are covering PD only for the office and data centers.\n",
    "Full details Below:\n",
    "Insured:     Bitfury\n",
    "Cover:     All Risks excluding BI\n",
    "Inception:   28.02.2020 until 14.02.2020\n",
    "Cedant:   Zurich UK\n",
    "Territorial Limits:   Worldwide\n",
    "Values:      Total TSI is USD 142m (including 5 data centers the balance are offices)\n",
    "Layer:       100% Layer of USD 10000000 e/el XS OPD @ USD 125000\n",
    "Original Policy Deductible:    USD 750000 IRO Loss or damage to block boxes and USD 100000 each and every all other losses.\n",
    "Loss Record:     I can confirm no loss for 5 years.\n",
    "I look forward to hearing from you.\n",
    "Kind Regards,\n",
    "Luke Derbyshire\n",
    "The Aon Centre'''"
   ]
  },
  {
   "cell_type": "code",
   "execution_count": 178,
   "metadata": {},
   "outputs": [
    {
     "data": {
      "text/plain": [
       "'Good Afternoon ,\\nPlease find 10 new submission attached. The insured is a Crytpocoin  “minor’, from a risk point of view we are covering PD only for the office and data centers.\\nFull details Below:\\nInsured:     Bitfury\\nCover:     All Risks excluding BI\\nInception:   28.02.2020 until 14.02.2020\\nCedant:   Zurich UK\\nTerritorial Limits:   Worldwide\\nValues:      Total TSI is USD 142m (including 5 data centers the balance are offices)\\nLayer:       100% Layer of USD 10000000 e/el XS OPD @ USD 125000\\nOriginal Policy Deductible:    USD 750000 IRO Loss or damage to block boxes and USD 100000 each and every all other losses.\\nLoss Record:     I can confirm no loss for 5 years.\\nI look forward to hearing from you.\\nKind Regards,\\nLuke Derbyshire\\nThe Aon Centre'"
      ]
     },
     "execution_count": 178,
     "metadata": {},
     "output_type": "execute_result"
    }
   ],
   "source": [
    "string"
   ]
  },
  {
   "cell_type": "code",
   "execution_count": 369,
   "metadata": {},
   "outputs": [],
   "source": [
    "def displaymatch(match):\n",
    "    if match is None:\n",
    "        return None\n",
    "    return '<Match: %r, groups=%r>' % (match.group(), match.groups())"
   ]
  },
  {
   "cell_type": "code",
   "execution_count": 373,
   "metadata": {},
   "outputs": [
    {
     "data": {
      "text/plain": [
       "\"<Match: 'akt5q', groups=()>\""
      ]
     },
     "execution_count": 373,
     "metadata": {},
     "output_type": "execute_result"
    }
   ],
   "source": [
    "valid = re.compile(r\"^[a2-9tjqk]{5}$\")\n",
    "displaymatch(valid.match(\"akt5q\"))  # Valid.\n",
    "\n",
    "displaymatch(valid.match(\"akt5e\"))  # Invalid.\n",
    "displaymatch(valid.match(\"akt\"))    # Invalid.\n",
    "displaymatch(valid.match(\"727ak\"))  # Valid."
   ]
  },
  {
   "cell_type": "code",
   "execution_count": 392,
   "metadata": {},
   "outputs": [],
   "source": [
    "pair = re.compile(r\".*(.).*\\1\")\n",
    "pair = re.compile(r\".*(.).*\\1\")"
   ]
  },
  {
   "cell_type": "code",
   "execution_count": 376,
   "metadata": {},
   "outputs": [
    {
     "data": {
      "text/plain": [
       "\"<Match: '717', groups=('7',)>\""
      ]
     },
     "execution_count": 376,
     "metadata": {},
     "output_type": "execute_result"
    }
   ],
   "source": [
    "displaymatch(pair.match(\"717ak\"))"
   ]
  },
  {
   "cell_type": "code",
   "execution_count": 301,
   "metadata": {},
   "outputs": [],
   "source": [
    "import itertools "
   ]
  },
  {
   "cell_type": "code",
   "execution_count": 367,
   "metadata": {},
   "outputs": [],
   "source": [
    "# pattern = re.compile(r'Values\\s*(\\W+\\s*)')\n",
    "pattern = re.compile(r'(\\bTSI)\\s+(\\w+)\\s+(\\w+)')\n",
    "\n",
    "for i in re.findall(pattern, 'TSI is   dub'):\n",
    "    print(i)"
   ]
  },
  {
   "cell_type": "code",
   "execution_count": 154,
   "metadata": {},
   "outputs": [
    {
     "name": "stdout",
     "output_type": "stream",
     "text": [
      "('USD', '142m')\n",
      "('USD', '10000000')\n",
      "('USD', '125000')\n",
      "('USD', '750000')\n",
      "('USD', '100000')\n"
     ]
    }
   ],
   "source": [
    "# pattern = re.compile(r'Values\\s*(\\W+\\s*)')\n",
    "pattern = re.compile(r'(USD)(?:\\s+|:)(\\w+)')\n",
    "\n",
    "for i in re.findall(pattern, string):\n",
    "    print(i)"
   ]
  },
  {
   "cell_type": "code",
   "execution_count": 95,
   "metadata": {},
   "outputs": [
    {
     "data": {
      "text/plain": [
       "[]"
      ]
     },
     "execution_count": 95,
     "metadata": {},
     "output_type": "execute_result"
    }
   ],
   "source": [
    "re.findall(pattern, string)"
   ]
  },
  {
   "cell_type": "code",
   "execution_count": 22,
   "metadata": {},
   "outputs": [
    {
     "name": "stdout",
     "output_type": "stream",
     "text": [
      "12 * ABC\n",
      "3 * DEF\n",
      "56 * G\n",
      "7 * HIJ\n"
     ]
    }
   ],
   "source": [
    "s = \"ABC12DEF3G56HIJ7\"\n",
    "pattern = re.compile(r'([A-Z]+)([0-9]+)')\n",
    "\n",
    "for (letters, numbers) in re.findall(pattern, s):\n",
    "    print(numbers, '*', letters)"
   ]
  },
  {
   "cell_type": "code",
   "execution_count": 21,
   "metadata": {},
   "outputs": [
    {
     "ename": "TypeError",
     "evalue": "'re.Match' object is not iterable",
     "output_type": "error",
     "traceback": [
      "\u001b[0;31m---------------------------------------------------------------------------\u001b[0m",
      "\u001b[0;31mTypeError\u001b[0m                                 Traceback (most recent call last)",
      "\u001b[0;32m<ipython-input-21-c36369ae5d62>\u001b[0m in \u001b[0;36m<module>\u001b[0;34m\u001b[0m\n\u001b[0;32m----> 1\u001b[0;31m \u001b[0;32mfor\u001b[0m \u001b[0mi\u001b[0m \u001b[0;32min\u001b[0m \u001b[0mre\u001b[0m\u001b[0;34m.\u001b[0m\u001b[0msearch\u001b[0m\u001b[0;34m(\u001b[0m\u001b[0;34mr'Values\\s*(\\S+\\s*){3}'\u001b[0m\u001b[0;34m,\u001b[0m\u001b[0mstring\u001b[0m\u001b[0;34m)\u001b[0m\u001b[0;34m:\u001b[0m\u001b[0;34m\u001b[0m\u001b[0;34m\u001b[0m\u001b[0m\n\u001b[0m\u001b[1;32m      2\u001b[0m     \u001b[0mprint\u001b[0m\u001b[0;34m(\u001b[0m\u001b[0mi\u001b[0m\u001b[0;34m)\u001b[0m\u001b[0;34m\u001b[0m\u001b[0;34m\u001b[0m\u001b[0m\n",
      "\u001b[0;31mTypeError\u001b[0m: 're.Match' object is not iterable"
     ]
    }
   ],
   "source": [
    "for i in re.search(r'Values\\s*(\\S+\\s*){3}',string):\n",
    "    print(i)"
   ]
  },
  {
   "cell_type": "code",
   "execution_count": null,
   "metadata": {},
   "outputs": [],
   "source": []
  }
 ],
 "metadata": {
  "kernelspec": {
   "display_name": "Python 3",
   "language": "python",
   "name": "python3"
  },
  "language_info": {
   "codemirror_mode": {
    "name": "ipython",
    "version": 3
   },
   "file_extension": ".py",
   "mimetype": "text/x-python",
   "name": "python",
   "nbconvert_exporter": "python",
   "pygments_lexer": "ipython3",
   "version": "3.7.6"
  },
  "toc": {
   "base_numbering": 1,
   "nav_menu": {},
   "number_sections": true,
   "sideBar": true,
   "skip_h1_title": false,
   "title_cell": "Table of Contents",
   "title_sidebar": "Contents",
   "toc_cell": false,
   "toc_position": {},
   "toc_section_display": true,
   "toc_window_display": false
  },
  "varInspector": {
   "cols": {
    "lenName": 16,
    "lenType": 16,
    "lenVar": 40
   },
   "kernels_config": {
    "python": {
     "delete_cmd_postfix": "",
     "delete_cmd_prefix": "del ",
     "library": "var_list.py",
     "varRefreshCmd": "print(var_dic_list())"
    },
    "r": {
     "delete_cmd_postfix": ") ",
     "delete_cmd_prefix": "rm(",
     "library": "var_list.r",
     "varRefreshCmd": "cat(var_dic_list()) "
    }
   },
   "types_to_exclude": [
    "module",
    "function",
    "builtin_function_or_method",
    "instance",
    "_Feature"
   ],
   "window_display": false
  }
 },
 "nbformat": 4,
 "nbformat_minor": 4
}
